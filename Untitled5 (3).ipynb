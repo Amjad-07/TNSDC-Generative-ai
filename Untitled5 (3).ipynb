{
  "nbformat": 4,
  "nbformat_minor": 0,
  "metadata": {
    "colab": {
      "provenance": []
    },
    "kernelspec": {
      "name": "python3",
      "display_name": "Python 3"
    },
    "language_info": {
      "name": "python"
    }
  },
  "cells": [
    {
      "cell_type": "code",
      "source": [
        "import matplotlib.pyplot as plt\n",
        "\n",
        "def transfer_style(text, italic=False, bold=False):\n",
        "    if italic and bold:\n",
        "        return '\\033[1m\\033[3m' + text + '\\033[0m'\n",
        "    elif italic:\n",
        "        return '\\033[3m' + text + '\\033[0m'\n",
        "    elif bold:\n",
        "        return '\\033[1m' + text + '\\033[0m'\n",
        "    else:\n",
        "        return text\n",
        "\n",
        "text = input(\"Enter the text: \")\n",
        "\n",
        "print(\"Select the style:\")\n",
        "print(\"1. Normal\")\n",
        "print(\"2. Italic\")\n",
        "print(\"3. Bold\")\n",
        "print(\"4. Italic and Bold\")\n",
        "\n",
        "choice = int(input(\"Enter your choice (1/2/3/4): \"))\n",
        "\n",
        "if choice == 1:\n",
        "    result = transfer_style(text)\n",
        "elif choice == 2:\n",
        "    result = transfer_style(text, italic=True)\n",
        "elif choice == 3:\n",
        "    result = transfer_style(text, bold=True)\n",
        "elif choice == 4:\n",
        "    result = transfer_style(text, italic=True, bold=True)\n",
        "else:\n",
        "    print(\"Invalid choice!\")\n",
        "    exit()\n",
        "\n",
        "print(\"Result:\", result)\n",
        "\n"
      ],
      "metadata": {
        "id": "oVVW0mURcM-1"
      },
      "execution_count": null,
      "outputs": []
    }
  ]
}